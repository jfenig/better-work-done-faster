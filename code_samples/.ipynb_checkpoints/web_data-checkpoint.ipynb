{
 "cells": [
  {
   "cell_type": "code",
   "execution_count": 301,
   "metadata": {
    "collapsed": true
   },
   "outputs": [],
   "source": [
    "# Import requests (for making HTTP requests).\n",
    "# Import ast (for converting a string object into a list).\n",
    "import requests\n",
    "import ast"
   ]
  },
  {
   "cell_type": "code",
   "execution_count": 302,
   "metadata": {
    "collapsed": false
   },
   "outputs": [],
   "source": [
    "# Retrieve the content on the NASA homepage and convert to a standard string representation.\n",
    "response = requests.get('https://www.nasa.gov/').content\n",
    "r = response.decode('utf-8')"
   ]
  },
  {
   "cell_type": "code",
   "execution_count": 303,
   "metadata": {
    "collapsed": false
   },
   "outputs": [],
   "source": [
    "# Define the unique start and end keywords to surround the content of interest.\n",
    "unique_start = '[{\"type\":\"event\",\"title\":\"Homepage Events\",\"position\":\"3\",\"links\":'\n",
    "unique_end = ',\"launch\":{'"
   ]
  },
  {
   "cell_type": "code",
   "execution_count": 304,
   "metadata": {
    "collapsed": true
   },
   "outputs": [],
   "source": [
    "# Create a substring slice in between the unique start and end keywords.\n",
    "string_of_events = r[r.find(unique_start)+len(start):r.find(unique_end)]"
   ]
  },
  {
   "cell_type": "code",
   "execution_count": 305,
   "metadata": {
    "collapsed": false
   },
   "outputs": [],
   "source": [
    "# Convert the string into a list of dictionary entries.\n",
    "list_of_events = ast.literal_eval(string_of_events)"
   ]
  },
  {
   "cell_type": "code",
   "execution_count": 306,
   "metadata": {
    "collapsed": false
   },
   "outputs": [],
   "source": [
    "# Remove key/value pairs that are not of interest\n",
    "# Clean up escape character formatting of url\n",
    "for event in list_of_events:\n",
    "    del event['id']\n",
    "    del event['target']\n",
    "    event['url'] = event['url'].replace('\\\\','')"
   ]
  },
  {
   "cell_type": "code",
   "execution_count": 307,
   "metadata": {
    "collapsed": false
   },
   "outputs": [
    {
     "data": {
      "text/plain": [
       "[{'title': 'Wednesday, Jan. 4: Expedition 50 Spacewalk Preview Briefing from Johnson Space Center, 2 p.m. EST, NASA TV',\n",
       "  'url': 'https://www.nasa.gov/press-release/nasa-preps-for-space-station-power-upgrade-spacewalks-live-nasa-tv-coverage'},\n",
       " {'title': 'Friday, Jan. 6: Shane Kimbrough and Peggy Wilson Expedition 50 Spacewalk, 7 a.m. EST (NASA TV Begins 5:30)',\n",
       "  'url': 'https://www.nasa.gov/press-release/nasa-preps-for-space-station-power-upgrade-spacewalks-live-nasa-tv-coverage'},\n",
       " {'title': 'Friday, Jan. 13: Shane Kimbrough and Thomas Pesquet Expedition 50 Spacewalk, 7 a.m. EST (NASA TV Begins 5:30)',\n",
       "  'url': 'https://www.nasa.gov/press-release/nasa-preps-for-space-station-power-upgrade-spacewalks-live-nasa-tv-coverage'},\n",
       " {'title': 'Registration Open: Super Bowl Week NASA Social at Johnson Space Center, Feb. 1',\n",
       "  'url': 'https://www.nasa.gov/feature/go-behind-the-scenes-at-johnson-space-center-leading-up-to-super-bowl-li'}]"
      ]
     },
     "execution_count": 307,
     "metadata": {},
     "output_type": "execute_result"
    }
   ],
   "source": [
    "list_of_events"
   ]
  },
  {
   "cell_type": "code",
   "execution_count": 308,
   "metadata": {
    "collapsed": false
   },
   "outputs": [],
   "source": [
    "# Define the keyword of interest and print only those events containing the keyword.\n",
    "keyword = 'Johnson Space Center'\n",
    "list_of_interest = [event_info for event_info in list_of_events if keyword in event_info['title']]"
   ]
  },
  {
   "cell_type": "code",
   "execution_count": 312,
   "metadata": {
    "collapsed": false
   },
   "outputs": [
    {
     "data": {
      "text/plain": [
       "[{'title': 'Wednesday, Jan. 4: Expedition 50 Spacewalk Preview Briefing from Johnson Space Center, 2 p.m. EST, NASA TV',\n",
       "  'url': 'https://www.nasa.gov/press-release/nasa-preps-for-space-station-power-upgrade-spacewalks-live-nasa-tv-coverage'},\n",
       " {'title': 'Registration Open: Super Bowl Week NASA Social at Johnson Space Center, Feb. 1',\n",
       "  'url': 'https://www.nasa.gov/feature/go-behind-the-scenes-at-johnson-space-center-leading-up-to-super-bowl-li'}]"
      ]
     },
     "execution_count": 312,
     "metadata": {},
     "output_type": "execute_result"
    }
   ],
   "source": [
    "list_of_interest"
   ]
  }
 ],
 "metadata": {
  "anaconda-cloud": {},
  "kernelspec": {
   "display_name": "Python [conda env:better-work-done-faster]",
   "language": "python",
   "name": "conda-env-better-work-done-faster-py"
  },
  "language_info": {
   "codemirror_mode": {
    "name": "ipython",
    "version": 3
   },
   "file_extension": ".py",
   "mimetype": "text/x-python",
   "name": "python",
   "nbconvert_exporter": "python",
   "pygments_lexer": "ipython3",
   "version": "3.5.2"
  }
 },
 "nbformat": 4,
 "nbformat_minor": 2
}
