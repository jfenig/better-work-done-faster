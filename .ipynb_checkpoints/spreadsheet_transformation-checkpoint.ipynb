{
 "cells": [
  {
   "cell_type": "code",
   "execution_count": 11,
   "metadata": {
    "collapsed": true
   },
   "outputs": [],
   "source": [
    "# Import a library called Pandas and assigns it to the alias \"pd\".  This is a standard convention.\n",
    "import pandas as pd"
   ]
  },
  {
   "cell_type": "code",
   "execution_count": 27,
   "metadata": {
    "collapsed": false
   },
   "outputs": [],
   "source": [
    "# Call a built-in Pandas function called .read_csv() to create a new spreadsheet-like object (i.e., a dataframe).\n",
    "df = pd.read_csv('resources/sample_data.csv')"
   ]
  },
  {
   "cell_type": "code",
   "execution_count": 28,
   "metadata": {
    "collapsed": false
   },
   "outputs": [
    {
     "data": {
      "text/html": [
       "<div>\n",
       "<table border=\"1\" class=\"dataframe\">\n",
       "  <thead>\n",
       "    <tr style=\"text-align: right;\">\n",
       "      <th></th>\n",
       "      <th>Name</th>\n",
       "      <th>Date</th>\n",
       "      <th>Item</th>\n",
       "      <th>Product Category</th>\n",
       "      <th>Time (hrs)</th>\n",
       "      <th>Amt Picked (lbs)</th>\n",
       "      <th>Sale Value ($/lb)</th>\n",
       "    </tr>\n",
       "  </thead>\n",
       "  <tbody>\n",
       "    <tr>\n",
       "      <th>0</th>\n",
       "      <td>Lucas</td>\n",
       "      <td>1/5/17</td>\n",
       "      <td>Green Apple</td>\n",
       "      <td>Apples</td>\n",
       "      <td>2</td>\n",
       "      <td>5</td>\n",
       "      <td>2.5</td>\n",
       "    </tr>\n",
       "    <tr>\n",
       "      <th>1</th>\n",
       "      <td>Valter</td>\n",
       "      <td>1/5/17</td>\n",
       "      <td>European Pear</td>\n",
       "      <td>Pears</td>\n",
       "      <td>4</td>\n",
       "      <td>10</td>\n",
       "      <td>2.0</td>\n",
       "    </tr>\n",
       "    <tr>\n",
       "      <th>2</th>\n",
       "      <td>Erik</td>\n",
       "      <td>1/5/17</td>\n",
       "      <td>Red Apple</td>\n",
       "      <td>Apples</td>\n",
       "      <td>2</td>\n",
       "      <td>3</td>\n",
       "      <td>2.1</td>\n",
       "    </tr>\n",
       "    <tr>\n",
       "      <th>3</th>\n",
       "      <td>Georg</td>\n",
       "      <td>1/5/17</td>\n",
       "      <td>Asian Pear</td>\n",
       "      <td>Pears</td>\n",
       "      <td>8</td>\n",
       "      <td>15</td>\n",
       "      <td>3.8</td>\n",
       "    </tr>\n",
       "    <tr>\n",
       "      <th>4</th>\n",
       "      <td>Lucas</td>\n",
       "      <td>1/5/17</td>\n",
       "      <td>Red Apple</td>\n",
       "      <td>Apples</td>\n",
       "      <td>6</td>\n",
       "      <td>6</td>\n",
       "      <td>3.6</td>\n",
       "    </tr>\n",
       "  </tbody>\n",
       "</table>\n",
       "</div>"
      ],
      "text/plain": [
       "     Name    Date           Item Product Category  Time (hrs)  \\\n",
       "0   Lucas  1/5/17    Green Apple           Apples           2   \n",
       "1  Valter  1/5/17  European Pear            Pears           4   \n",
       "2    Erik  1/5/17      Red Apple           Apples           2   \n",
       "3   Georg  1/5/17     Asian Pear            Pears           8   \n",
       "4   Lucas  1/5/17      Red Apple           Apples           6   \n",
       "\n",
       "   Amt Picked (lbs)  Sale Value ($/lb)  \n",
       "0                 5                2.5  \n",
       "1                10                2.0  \n",
       "2                 3                2.1  \n",
       "3                15                3.8  \n",
       "4                 6                3.6  "
      ]
     },
     "execution_count": 28,
     "metadata": {},
     "output_type": "execute_result"
    }
   ],
   "source": [
    "# Print the spreadsheet for easy viewing.\n",
    "df"
   ]
  },
  {
   "cell_type": "code",
   "execution_count": 29,
   "metadata": {
    "collapsed": true
   },
   "outputs": [],
   "source": [
    "# Create a dictionary called item_name_changes and populate it with key/value pairs.\n",
    "item_name_changes = {'European Pear':'Continental Fruit', 'Red Apple':'Pomme Rouge'}"
   ]
  },
  {
   "cell_type": "code",
   "execution_count": 30,
   "metadata": {
    "collapsed": false
   },
   "outputs": [],
   "source": [
    "# Call the dataframe's built-in .replace() function on the Item column to change the item names\n",
    "df['Item'].replace(item_name_changes, inplace=True)"
   ]
  },
  {
   "cell_type": "code",
   "execution_count": 25,
   "metadata": {
    "collapsed": false
   },
   "outputs": [],
   "source": [
    "df['Amt Picked (g)'] = [row*2 for row in df['Amt Picked (lbs)']]"
   ]
  },
  {
   "cell_type": "code",
   "execution_count": 61,
   "metadata": {
    "collapsed": false
   },
   "outputs": [],
   "source": [
    "def convert_lb_to_gram(x):\n",
    "    result = x*453.592\n",
    "    return '{:.2f}'.format(result)"
   ]
  },
  {
   "cell_type": "code",
   "execution_count": 62,
   "metadata": {
    "collapsed": false
   },
   "outputs": [
    {
     "data": {
      "text/plain": [
       "['2267.96', '4535.92', '1360.78', '6803.88', '2721.55']"
      ]
     },
     "execution_count": 62,
     "metadata": {},
     "output_type": "execute_result"
    }
   ],
   "source": [
    "[convert_lb_to_gram(row) for row in df['Amt Picked (lbs)']]"
   ]
  },
  {
   "cell_type": "code",
   "execution_count": 60,
   "metadata": {
    "collapsed": false
   },
   "outputs": [
    {
     "data": {
      "text/plain": [
       "['2267.96', '4535.92', '1360.78', '6803.88', '2721.55']"
      ]
     },
     "execution_count": 60,
     "metadata": {},
     "output_type": "execute_result"
    }
   ],
   "source": [
    "['{:.2f}'.format(convert_lb_to_gram(row)) for row in df['Amt Picked (lbs)']]"
   ]
  },
  {
   "cell_type": "code",
   "execution_count": null,
   "metadata": {
    "collapsed": true
   },
   "outputs": [],
   "source": []
  }
 ],
 "metadata": {
  "anaconda-cloud": {},
  "kernelspec": {
   "display_name": "Python [conda env:better-work-done-faster]",
   "language": "python",
   "name": "conda-env-better-work-done-faster-py"
  },
  "language_info": {
   "codemirror_mode": {
    "name": "ipython",
    "version": 3
   },
   "file_extension": ".py",
   "mimetype": "text/x-python",
   "name": "python",
   "nbconvert_exporter": "python",
   "pygments_lexer": "ipython3",
   "version": "3.5.2"
  }
 },
 "nbformat": 4,
 "nbformat_minor": 2
}
