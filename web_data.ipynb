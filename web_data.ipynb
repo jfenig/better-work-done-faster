{
 "cells": [
  {
   "cell_type": "code",
   "execution_count": 32,
   "metadata": {
    "collapsed": true
   },
   "outputs": [],
   "source": [
    "import requests\n",
    "import re\n",
    "from bs4 import BeautifulSoup"
   ]
  },
  {
   "cell_type": "code",
   "execution_count": 12,
   "metadata": {
    "collapsed": false
   },
   "outputs": [],
   "source": [
    "# Create function for taking URL and transforming it into BeautifulSoup object.\n",
    "def make_soup(url):\n",
    "    html = requests.get(url).content\n",
    "    return BeautifulSoup(html, 'html.parser')"
   ]
  },
  {
   "cell_type": "code",
   "execution_count": 15,
   "metadata": {
    "collapsed": false
   },
   "outputs": [],
   "source": [
    "page = make_soup('https://www.nasa.gov/')"
   ]
  },
  {
   "cell_type": "code",
   "execution_count": 42,
   "metadata": {
    "collapsed": false
   },
   "outputs": [
    {
     "data": {
      "text/plain": [
       "[<header class=\"l-header container-fluid\" role=\"banner\"></header>]"
      ]
     },
     "execution_count": 42,
     "metadata": {},
     "output_type": "execute_result"
    }
   ],
   "source": [
    "page.select('header')"
   ]
  },
  {
   "cell_type": "code",
   "execution_count": 33,
   "metadata": {
    "collapsed": false
   },
   "outputs": [
    {
     "data": {
      "text/plain": [
       "'\\n\\n\\n\\n\\n\\n\\n\\n\\n\\n\\n\\n\\n\\n\\n\\n\\n\\n\\n\\n\\n\\n\\n\\n\\n\\n\\n\\nNASA\\n\\n\\n\\n\\n\\n\\n\\n@import url(\"/sites/all/modules/custom/scald_before_after_image/scald_before_after_image.css?oinn2s\");\\n@import url(\"/sites/all/modules/custom/scald_htmlsnippet/scald_htmlsnippet.css?oinn2s\");\\n@import url(\"/sites/all/modules/custom/scald_iframe/scald_iframe.css?oinn2s\");\\n\\n\\n@import url(\"/sites/all/modules/contributed/jreject/jReject/css/jquery.reject.css?oinn2s\");\\n@import url(\"/sites/all/modules/custom/nasa_cards/plugins/layouts/card_feed/card-feed.css?oinn2s\");\\n\\n\\n\\n\\n\\n    ;(function (g) {\\n        var d = document, i, am = d.createElement(\\'script\\'), h = d.head || d.getElementsByTagName(\"head\")[0],\\n                aex = {\\n                  \"src\": \"//gateway.answerscloud.com/nasa-gov/production/gateway.min.js\",\\n                    \"type\": \"text/javascript\",\\n                    \"async\": \"true\",\\n                    \"data-vendor\": \"acs\",\\n                    \"data-role\": \"gateway\"\\n                };\\n        for (var attr in aex) { am.setAttribute(attr,aex[attr]); }\\n        h.appendChild(am);\\n        g[\\'acsReady\\'] = function () {var aT = \\'__acsReady__\\', args = Array.prototype.slice.call(arguments, 0),k = setInterval(function () {if (typeof g[aT] === \\'function\\') {clearInterval(k);for (i = 0; i < args.length; i++) {g[aT].call(g, function(fn) { return function() { setTimeout(fn, 1) };}(args[i]));}}}, 50);};\\n    })(window);\\n    \\n\\nwindow.Drupal = {behaviors: {}};\\n\\n\\n\\n\\n\\n\\n\\n\\n\\n\\nwindow.landingPage = {\"id\":\"1\",\\n\"cardPageType\":\"0\",\\n\"title\": true ? \"NASA Home Page\" : \"Empty landing page\",\\n\"body\":\"\",\\n\"topics\":[],\\n\"missions\":[],\\n\"collections\":[],\\n\"otherTags\":[],\\n\"socialEmbedCode\":null,\\n\"addthisProfileID\":null,\\n\"allSocialMediaLink\":null,\\n\"submenu\":{\"shortName\":null,\\n\"subtopicLinks\":[]},\\n\"sidemenu\":{\"heading\":null,\\n\"leftsideMenuLinks\":[]},\\n\"cardpageLinks\":[],\\n\"topPattern\":  [\\'1x1\\', \\'2x1\\', \\'1x1\\', \\'1x1\\', \\'1x1\\', \\'2x1\\', \\'1x1\\', \\'1x1\\', \\'1x1\\', \\'1x1\\', \\'2x1\\', \\'2x1\\'],\\n\"govDeliveryId\":null};\\nwindow.forcedRoute = \"landingPage\";\\nwindow.cardFeed = [{\"type\":\"event\",\"title\":\"Homepage Events\",\"position\":\"3\",\"links\":[{\"url\":\"https:\\\\/\\\\/www.nasa.gov\\\\/press-release\\\\/nasa-preps-for-space-station-power-upgrade-spacewalks-live-nasa-tv-coverage\",\"title\":\"Wednesday, Jan. 4: Expedition 50 Spacewalk Preview Briefing from Johnson Space Center, 2 p.m. EST, NASA TV\",\"id\":\"37-0\",\"target\":\"_blank\"},{\"url\":\"https:\\\\/\\\\/www.nasa.gov\\\\/press-release\\\\/nasa-preps-for-space-station-power-upgrade-spacewalks-live-nasa-tv-coverage\",\"title\":\"Friday, Jan. 6: Shane Kimbrough and Peggy Wilson Expedition 50 Spacewalk, 7 a.m. EST (NASA TV Begins 5:30)\",\"id\":\"37-1\",\"target\":\"_blank\"},{\"url\":\"https:\\\\/\\\\/www.nasa.gov\\\\/press-release\\\\/nasa-preps-for-space-station-power-upgrade-spacewalks-live-nasa-tv-coverage\",\"title\":\"Friday, Jan. 13: Shane Kimbrough and Thomas Pesquet Expedition 50 Spacewalk, 7 a.m. EST (NASA TV Begins 5:30)\",\"id\":\"37-2\",\"target\":\"_blank\"},{\"url\":\"https:\\\\/\\\\/www.nasa.gov\\\\/feature\\\\/go-behind-the-scenes-at-johnson-space-center-leading-up-to-super-bowl-li\",\"title\":\"Registration Open: Super Bowl Week NASA Social at Johnson Space Center, Feb. 1\",\"id\":\"37-3\",\"target\":\"_blank\"}],\"launch\":{\"id\":\"ab8b14702ad2eb430159bea207d085e9\",\"title\":\"Launches and Landings\",\"url\":\"\\\\/launchschedule\"},\"calendar\":{\"id\":\"9bfb9f1dc5aa7e277009dd3d643cd4bf\",\"title\":\"Calendar\",\"url\":\"\\\\/calendar\"},\"date\":\"2016-12-15T08:35:00-05:00\",\"countdown\":0,\"id\":\"37\"},{\"type\":\"pinnedytcard\",\"title\":\"NASA 2017 - Building the Future \",\"position\":\"4\",\"ytVideoId\":\"cTULoZggpcw\",\"ytPlaylistId\":\"PLiuUQ9asub3RHqKdK_XZSZ8I_981UPhvX\"},{\"type\":\"ubercard\",\"title\":\"NASA HQ\\'s Favorite Photos of 2016\",\"position\":\"2\",\"node\":\"395665\",\"altTitle\":null,\"visibleTag\":\"secondary\",\"id\":\"9982\"},{\"type\":\"ubercard\",\"title\":\"Small Satellite Deployed From the Space Station\",\"position\":\"8\",\"node\":\"395660\",\"altTitle\":null,\"visibleTag\":\"secondary\",\"id\":\"6361\"},{\"type\":\"ubercard\",\"title\":\"NASA Reveals the Unknown in 2016\",\"position\":\"4\",\"node\":\"395260\",\"altTitle\":null,\"visibleTag\":\"primary\",\"id\":\"9965\"},{\"type\":\"snippet\",\"title\":\"Modern Figures: NASA\\'s Past and Future\",\"position\":\"10\",\"id\":\"9870\",\"link\":\"https:\\\\/\\\\/www.nasa.gov\\\\/modernfigures\",\"description\":\"<p>The book and film \\\\\"Hidden Figures\\\\\" tell the story of Katherine Johnson (right) and other African-American women who were essential to the success of early spaceflight. Today, NASA embraces their legacy and strives to include everyone who wants to participate in its ongoing exploration.<\\\\/p>\\\\r\\\\n\",\"links\":[{\"url\":\"https:\\\\/\\\\/www.nasa.gov\\\\/modernfigures\",\"title\":\"NASA\\'s Modern Figures\",\"attributes\":{\"rel\":\"_blank\"},\"display_url\":\"https:\\\\/\\\\/www.nasa.gov\\\\/modernfigures\",\"html\":true}],\"image\":{\"fid\":\"548784\",\"uid\":\"12\",\"filename\":\"30996939630_ec3dc9a77c_o.jpg\",\"uri\":\"public:\\\\/\\\\/thumbnails\\\\/image\\\\/30996939630_ec3dc9a77c_o.jpg\",\"filemime\":\"image\\\\/jpeg\",\"filesize\":\"3154791\",\"status\":\"1\",\"timestamp\":\"1480695105\",\"uuid\":\"5e9f9feb-338a-4f39-ad35-688aaed7f61d\",\"alt\":\"Actress Octavia Spencer greets Katherine Johnson as NASA Administrator Bolden stands nearby\",\"title\":\"\",\"width\":\"3466\",\"height\":\"3280\",\"crop1x1\":\"\\\\/sites\\\\/default\\\\/files\\\\/styles\\\\/1x1_cardfeed\\\\/public\\\\/thumbnails\\\\/image\\\\/30996939630_ec3dc9a77c_o.jpg?itok=hLSRRuFj\",\"crop2x1\":\"\\\\/sites\\\\/default\\\\/files\\\\/styles\\\\/2x1_cardfeed\\\\/public\\\\/thumbnails\\\\/image\\\\/30996939630_ec3dc9a77c_o.jpg?itok=pY3EJ2zW\",\"crop2x2\":\"\\\\/sites\\\\/default\\\\/files\\\\/styles\\\\/2x2_cardfeed\\\\/public\\\\/thumbnails\\\\/image\\\\/30996939630_ec3dc9a77c_o.jpg?itok=o_SOP4jn\",\"crop3x1\":\"\\\\/sites\\\\/default\\\\/files\\\\/styles\\\\/3x1_cardfeed\\\\/public\\\\/thumbnails\\\\/image\\\\/30996939630_ec3dc9a77c_o.jpg?itok=xcoB_8zL\",\"crop1x2\":\"\\\\/sites\\\\/default\\\\/files\\\\/styles\\\\/1x2_cardfeed\\\\/public\\\\/thumbnails\\\\/image\\\\/30996939630_ec3dc9a77c_o.jpg?itok=2oYuQ5xQ\",\"crop4x3ratio\":\"\\\\/sites\\\\/default\\\\/files\\\\/styles\\\\/image_card_4x3_ratio\\\\/public\\\\/thumbnails\\\\/image\\\\/30996939630_ec3dc9a77c_o.jpg?itok=Ks-9u5o6\",\"cropHumongo\":\"\\\\/sites\\\\/default\\\\/files\\\\/styles\\\\/4x1_cardfeed_humongo\\\\/public\\\\/thumbnails\\\\/image\\\\/30996939630_ec3dc9a77c_o.jpg?itok=Ujw-h-YS\",\"cropBanner\":\"\\\\/sites\\\\/default\\\\/files\\\\/styles\\\\/card_page_banner\\\\/public\\\\/thumbnails\\\\/image\\\\/30996939630_ec3dc9a77c_o.jpg?itok=y7nPadsg\",\"cropUnHoriz\":\"\\\\/sites\\\\/default\\\\/files\\\\/styles\\\\/ubernode_alt_horiz\\\\/public\\\\/thumbnails\\\\/image\\\\/30996939630_ec3dc9a77c_o.jpg?itok=PaFYJxjc\",\"cropUnVert\":\"\\\\/sites\\\\/default\\\\/files\\\\/styles\\\\/ubernode_alt_vert\\\\/public\\\\/thumbnails\\\\/image\\\\/30996939630_ec3dc9a77c_o.jpg?itok=bN7y2mSb\",\"fullWidthFeature\":\"\\\\/sites\\\\/default\\\\/files\\\\/styles\\\\/full_width_feature\\\\/public\\\\/thumbnails\\\\/image\\\\/30996939630_ec3dc9a77c_o.jpg?itok=k-G3q3rd\",\"lrThumbnail\":\"\\\\/sites\\\\/default\\\\/files\\\\/styles\\\\/lr_thumbnail\\\\/public\\\\/thumbnails\\\\/image\\\\/30996939630_ec3dc9a77c_o.jpg?itok=Y8MMPTZN\"}},{\"type\":\"twittere\",\"title\":\"@NASA Tweets\",\"position\":\"7\",\"embedUrl\":\"530415718630555648\",\"id\":\"36\"},{\"type\":\"card_feed\",\"routes\":[\"1\"],\"unType\":[\"feature\",\"image\",\"press_release\",\"collection_asset\",\"mediacast\"],\"id\":\"35\"},{\"type\":\"video_feed\",\"title\":\"video feed\",\"ytPlaylistId\":\"PLiuUQ9asub3Qq1AQRirDI-naOwo1H5gaB\",\"feedLimit\":25},{\"type\":\"pattern\",\"pattern\":[\"2x2\",\"1x1\",\"1x1\",\"2x1\",\"1x1\",\"2x1\",\"1x1\",\"1x1\",\"1x1\",\"1x1\",\"1x1\"]},];\\n\\n\\n\\n\\n\\n  (function($) {\\n    $.reject({\\n    display: [\"msie\", \"firefox\", \"safari\", \"opera\", \"chrome\", \"gcf\"],\\n      reject: {  \\n          msie5: true, msie6: true, msie7: true, msie8: true, msie9: true, firefox2: true, firefox3: true, firefox4: true, firefox5: true, firefox6: true, firefox7: true, firefox8: true, firefox9: true, safari1: true, safari2: true, safari3: true, safari4: true, opera1: true, opera2: true, opera3: true, opera4: true, opera5: true, opera6: true, opera7: true, opera8: true, opera9: true\\n      },\\n      imagePath: \\'/sites/all/modules/contributed/jreject/jReject/images/\\',\\n      enable: true, header: \"Did you know that your Internet Browser is out of date?\", paragraph1: \"To ensure that all features of NASA.gov work effectively, please upgrade to the latest version of one of these web browsers. <br /><br />For Internet Explorer users: The site will only be fully functional on version 11 with compatibility mode turned off. If you\\'re using version 11 and you\\'re seeing this message, compatibility mode is turned on in your browser. If you need compatibility mode turned on to use other sites or applications, you\\'ll need to use another browser to see the full NASA site.\", paragraph2: \"Just click on the icons to get to the download page:\", closeMessage: \"By closing this window you acknowledge that your experience on this website may be degraded.\", closeLink: \"Close This Window\", closeURL: \"#\", close: true, closeESC: true, closeCookie: true, overlayBgColor: \"#000\", overlayOpacity: 0.8, fadeInTime: \"fast\", fadeOutTime: \"fast\"\\n    }); \\n  })(jQuery);\\n\\n      /**\\n       * © 2011-2014 iPerceptions, Inc. All rights reserved. Do not distribute.\\n       * iPerceptions provides this code \\'as is\\' without warranty of any kind,\\n       * either express or implied.\\n       */\\n\\n     window.iperceptionskey = \\'CTS00001\\';\\n     (function () {\\n       var a = document.createElement(\\'script\\'),\\n           b = document.getElementsByTagName(\\'body\\')[0];\\n       a.type = \\'text/javascript\\';\\n       a.async = true;\\n       a.src = \\'//universal.iperceptions.com/wrapper.js\\';b.appendChild(a);\\n     })();\\n    \\n\\n\\n'"
      ]
     },
     "execution_count": 33,
     "metadata": {},
     "output_type": "execute_result"
    }
   ],
   "source": [
    "page.get_text()"
   ]
  },
  {
   "cell_type": "code",
   "execution_count": 16,
   "metadata": {
    "collapsed": false
   },
   "outputs": [
    {
     "data": {
      "text/plain": [
       "<!DOCTYPE html>\n",
       "\n",
       "<html class=\"no-js\" dir=\"ltr\" lang=\"en\" prefix=\"content: http://purl.org/rss/1.0/modules/content/ dc: http://purl.org/dc/terms/ foaf: http://xmlns.com/foaf/0.1/ og: http://ogp.me/ns# rdfs: http://www.w3.org/2000/01/rdf-schema# sioc: http://rdfs.org/sioc/ns# sioct: http://rdfs.org/sioc/types# skos: http://www.w3.org/2004/02/skos/core# xsd: http://www.w3.org/2001/XMLSchema#\">\n",
       "<head>\n",
       "<meta charset=\"utf-8\"/>\n",
       "<meta content=\"NASA\" property=\"og:site_name\"/>\n",
       "<meta content=\"text/html\" name=\"dcterms.format\"/>\n",
       "<meta content=\"Text\" name=\"dcterms.type\"/>\n",
       "<meta content=\"Drupal 7 (http://drupal.org)\" name=\"generator\"/>\n",
       "<meta content=\"summary_large_image\" property=\"twitter:card\"/>\n",
       "<meta content=\"11348282\" property=\"twitter:site:id\"/>\n",
       "<link href=\"http://www.w3.org/1999/xhtml/vocab\" rel=\"profile\"/>\n",
       "<link href=\"/favicon.ico\" rel=\"shortcut icon\" type=\"image/vnd.microsoft.icon\"/>\n",
       "<meta content=\"http://www.nasa.gov/sites/default/files/images/nasaLogo-570x450.png\" property=\"twitter:image\"/>\n",
       "<meta content=\"/index.html\" property=\"twitter:url\"/>\n",
       "<meta content=\"@NASA\" property=\"twitter:site\"/>\n",
       "<meta content=\"Pioneering the future in space exploration, scientific discovery and aeronautics research.\" property=\"twitter:description\"/>\n",
       "<meta content=\"NASA\" name=\"dcterms.title\"/>\n",
       "<link href=\"/\" rel=\"shortlink\"/>\n",
       "<link href=\"/\" rel=\"canonical\"/>\n",
       "<meta content=\"NASA.gov brings you the latest news, images and videos from America's space agency, pioneering the future in space exploration, scientific discovery and aeronautics research.\" name=\"description\"/>\n",
       "<meta content=\"/\" name=\"dcterms.identifier\"/>\n",
       "<meta content=\"National Aeronautics and Space Administration\" property=\"og:title\"/>\n",
       "<meta content=\"http://www.nasa.gov/index.html\" property=\"og:url\"/>\n",
       "<meta content=\"http://www.nasa.gov/sites/default/files/images/nasaLogo-570x450.png\" property=\"og:image\"/>\n",
       "<meta content=\"website\" property=\"og:type\"/>\n",
       "<meta content=\"National Aeronautics and Space Administration\" property=\"twitter:title\"/>\n",
       "<meta content=\"NASA.gov brings you the latest news, images and videos from America's space agency, pioneering the future in space exploration, scientific discovery and aeronautics research.\" property=\"og:description\"/>\n",
       "<meta content=\"width=device-width, initial-scale=1.0, maximum-scale=10.0\" name=\"viewport\"/>\n",
       "<title>NASA</title>\n",
       "<meta content=\"%7B%22modulePrefix%22%3A%22nasa%22%2C%22environment%22%3A%22development%22%2C%22baseURL%22%3A%22/%22%2C%22locationType%22%3A%22none%22%2C%22EmberENV%22%3A%7B%22FEATURES%22%3A%7B%7D%7D%2C%22APP%22%3A%7B%22LOG_ACTIVE_GENERATION%22%3Atrue%2C%22LOG_VIEW_LOOKUPS%22%3Atrue%7D%2C%22contentSecurityPolicyHeader%22%3A%22Content-Security-Policy-Report-Only%22%2C%22contentSecurityPolicy%22%3A%7B%22default-src%22%3A%22%27none%27%22%2C%22script-src%22%3A%22%27self%27%20%27unsafe-eval%27%22%2C%22font-src%22%3A%22%27self%27%22%2C%22connect-src%22%3A%22%27self%27%22%2C%22img-src%22%3A%22%27self%27%22%2C%22style-src%22%3A%22%27self%27%22%2C%22media-src%22%3A%22%27self%27%22%7D%2C%22exportApplicationGlobal%22%3Atrue%7D\" name=\"nasa/config/environment\"/>\n",
       "<meta content=\"IE=Edge,chrome=1\" http-equiv=\"X-UA-Compatible\"/>\n",
       "<link href=\"/sites/all/themes/custom/nasatwo/images/apple-touch-icon.png\" rel=\"apple-touch-icon\">\n",
       "<link href=\"/sites/all/themes/custom/nasatwo/images/apple-touch-icon-76x76.png\" rel=\"apple-touch-icon\" sizes=\"76x76\">\n",
       "<link href=\"/sites/all/themes/custom/nasatwo/images/apple-touch-icon-120x120.png\" rel=\"apple-touch-icon\" sizes=\"120x120\">\n",
       "<link href=\"/sites/all/themes/custom/nasatwo/images/apple-touch-icon-152x152.png\" rel=\"apple-touch-icon\" sizes=\"152x152\">\n",
       "<style>\n",
       "@import url(\"/sites/all/modules/custom/scald_before_after_image/scald_before_after_image.css?oinn2s\");\n",
       "@import url(\"/sites/all/modules/custom/scald_htmlsnippet/scald_htmlsnippet.css?oinn2s\");\n",
       "@import url(\"/sites/all/modules/custom/scald_iframe/scald_iframe.css?oinn2s\");\n",
       "</style>\n",
       "<style>\n",
       "@import url(\"/sites/all/modules/contributed/jreject/jReject/css/jquery.reject.css?oinn2s\");\n",
       "@import url(\"/sites/all/modules/custom/nasa_cards/plugins/layouts/card_feed/card-feed.css?oinn2s\");\n",
       "</style>\n",
       "<link href=\"/sites/all/themes/custom/nasatwo/css/vendor.css?oinn2s\" media=\"all\" rel=\"stylesheet\" type=\"text/css\"/>\n",
       "<link href=\"/sites/all/themes/custom/nasatwo/css/nasa.css?oinn2s\" media=\"all\" rel=\"stylesheet\" type=\"text/css\"/>\n",
       "<script id=\"_fed_an_ua_tag\" language=\"javascript\" src=\"https://dap.digitalgov.gov/Universal-Federated-Analytics-Min.js?agency=NASA&amp;yt=true&amp;dclink=true\"></script>\n",
       "<script type=\"text/javascript\">\n",
       "    ;(function (g) {\n",
       "        var d = document, i, am = d.createElement('script'), h = d.head || d.getElementsByTagName(\"head\")[0],\n",
       "                aex = {\n",
       "                  \"src\": \"//gateway.answerscloud.com/nasa-gov/production/gateway.min.js\",\n",
       "                    \"type\": \"text/javascript\",\n",
       "                    \"async\": \"true\",\n",
       "                    \"data-vendor\": \"acs\",\n",
       "                    \"data-role\": \"gateway\"\n",
       "                };\n",
       "        for (var attr in aex) { am.setAttribute(attr,aex[attr]); }\n",
       "        h.appendChild(am);\n",
       "        g['acsReady'] = function () {var aT = '__acsReady__', args = Array.prototype.slice.call(arguments, 0),k = setInterval(function () {if (typeof g[aT] === 'function') {clearInterval(k);for (i = 0; i < args.length; i++) {g[aT].call(g, function(fn) { return function() { setTimeout(fn, 1) };}(args[i]));}}}, 50);};\n",
       "    })(window);\n",
       "    </script>\n",
       "<script src=\"/sites/all/modules/scald_twitter/scald_twitter.js?oinn2s\"></script>\n",
       "<script>window.Drupal = {behaviors: {}};</script>\n",
       "<script src=\"/sites/all/themes/custom/nasatwo/js/vendor.js?oinn2s\"></script>\n",
       "<script src=\"/sites/all/themes/custom/nasatwo/js/nasa.js?oinn2s\"></script>\n",
       "<script src=\"/sites/all/modules/contributed/jreject/jReject/js/jquery.reject.js?oinn2s\"></script>\n",
       "</link></link></link></link></head>\n",
       "<body class=\"Array\">\n",
       "<div class=\"l-page ember-init-hide\">\n",
       "<header class=\"l-header container-fluid\" role=\"banner\"></header>\n",
       "<div class=\"l-main\">\n",
       "<div class=\"l-content container-fluid\" id=\"main\" role=\"main\">\n",
       "<script>\n",
       "window.landingPage = {\"id\":\"1\",\n",
       "\"cardPageType\":\"0\",\n",
       "\"title\": true ? \"NASA Home Page\" : \"Empty landing page\",\n",
       "\"body\":\"\",\n",
       "\"topics\":[],\n",
       "\"missions\":[],\n",
       "\"collections\":[],\n",
       "\"otherTags\":[],\n",
       "\"socialEmbedCode\":null,\n",
       "\"addthisProfileID\":null,\n",
       "\"allSocialMediaLink\":null,\n",
       "\"submenu\":{\"shortName\":null,\n",
       "\"subtopicLinks\":[]},\n",
       "\"sidemenu\":{\"heading\":null,\n",
       "\"leftsideMenuLinks\":[]},\n",
       "\"cardpageLinks\":[],\n",
       "\"topPattern\":  ['1x1', '2x1', '1x1', '1x1', '1x1', '2x1', '1x1', '1x1', '1x1', '1x1', '2x1', '2x1'],\n",
       "\"govDeliveryId\":null};\n",
       "window.forcedRoute = \"landingPage\";\n",
       "window.cardFeed = [{\"type\":\"event\",\"title\":\"Homepage Events\",\"position\":\"3\",\"links\":[{\"url\":\"https:\\/\\/www.nasa.gov\\/press-release\\/nasa-preps-for-space-station-power-upgrade-spacewalks-live-nasa-tv-coverage\",\"title\":\"Wednesday, Jan. 4: Expedition 50 Spacewalk Preview Briefing from Johnson Space Center, 2 p.m. EST, NASA TV\",\"id\":\"37-0\",\"target\":\"_blank\"},{\"url\":\"https:\\/\\/www.nasa.gov\\/press-release\\/nasa-preps-for-space-station-power-upgrade-spacewalks-live-nasa-tv-coverage\",\"title\":\"Friday, Jan. 6: Shane Kimbrough and Peggy Wilson Expedition 50 Spacewalk, 7 a.m. EST (NASA TV Begins 5:30)\",\"id\":\"37-1\",\"target\":\"_blank\"},{\"url\":\"https:\\/\\/www.nasa.gov\\/press-release\\/nasa-preps-for-space-station-power-upgrade-spacewalks-live-nasa-tv-coverage\",\"title\":\"Friday, Jan. 13: Shane Kimbrough and Thomas Pesquet Expedition 50 Spacewalk, 7 a.m. EST (NASA TV Begins 5:30)\",\"id\":\"37-2\",\"target\":\"_blank\"},{\"url\":\"https:\\/\\/www.nasa.gov\\/feature\\/go-behind-the-scenes-at-johnson-space-center-leading-up-to-super-bowl-li\",\"title\":\"Registration Open: Super Bowl Week NASA Social at Johnson Space Center, Feb. 1\",\"id\":\"37-3\",\"target\":\"_blank\"}],\"launch\":{\"id\":\"ab8b14702ad2eb430159bea207d085e9\",\"title\":\"Launches and Landings\",\"url\":\"\\/launchschedule\"},\"calendar\":{\"id\":\"9bfb9f1dc5aa7e277009dd3d643cd4bf\",\"title\":\"Calendar\",\"url\":\"\\/calendar\"},\"date\":\"2016-12-15T08:35:00-05:00\",\"countdown\":0,\"id\":\"37\"},{\"type\":\"pinnedytcard\",\"title\":\"NASA 2017 - Building the Future \",\"position\":\"4\",\"ytVideoId\":\"cTULoZggpcw\",\"ytPlaylistId\":\"PLiuUQ9asub3RHqKdK_XZSZ8I_981UPhvX\"},{\"type\":\"ubercard\",\"title\":\"NASA HQ's Favorite Photos of 2016\",\"position\":\"2\",\"node\":\"395665\",\"altTitle\":null,\"visibleTag\":\"secondary\",\"id\":\"9982\"},{\"type\":\"ubercard\",\"title\":\"Small Satellite Deployed From the Space Station\",\"position\":\"8\",\"node\":\"395660\",\"altTitle\":null,\"visibleTag\":\"secondary\",\"id\":\"6361\"},{\"type\":\"ubercard\",\"title\":\"NASA Reveals the Unknown in 2016\",\"position\":\"4\",\"node\":\"395260\",\"altTitle\":null,\"visibleTag\":\"primary\",\"id\":\"9965\"},{\"type\":\"snippet\",\"title\":\"Modern Figures: NASA's Past and Future\",\"position\":\"10\",\"id\":\"9870\",\"link\":\"https:\\/\\/www.nasa.gov\\/modernfigures\",\"description\":\"<p>The book and film \\\"Hidden Figures\\\" tell the story of Katherine Johnson (right) and other African-American women who were essential to the success of early spaceflight. Today, NASA embraces their legacy and strives to include everyone who wants to participate in its ongoing exploration.<\\/p>\\r\\n\",\"links\":[{\"url\":\"https:\\/\\/www.nasa.gov\\/modernfigures\",\"title\":\"NASA's Modern Figures\",\"attributes\":{\"rel\":\"_blank\"},\"display_url\":\"https:\\/\\/www.nasa.gov\\/modernfigures\",\"html\":true}],\"image\":{\"fid\":\"548784\",\"uid\":\"12\",\"filename\":\"30996939630_ec3dc9a77c_o.jpg\",\"uri\":\"public:\\/\\/thumbnails\\/image\\/30996939630_ec3dc9a77c_o.jpg\",\"filemime\":\"image\\/jpeg\",\"filesize\":\"3154791\",\"status\":\"1\",\"timestamp\":\"1480695105\",\"uuid\":\"5e9f9feb-338a-4f39-ad35-688aaed7f61d\",\"alt\":\"Actress Octavia Spencer greets Katherine Johnson as NASA Administrator Bolden stands nearby\",\"title\":\"\",\"width\":\"3466\",\"height\":\"3280\",\"crop1x1\":\"\\/sites\\/default\\/files\\/styles\\/1x1_cardfeed\\/public\\/thumbnails\\/image\\/30996939630_ec3dc9a77c_o.jpg?itok=hLSRRuFj\",\"crop2x1\":\"\\/sites\\/default\\/files\\/styles\\/2x1_cardfeed\\/public\\/thumbnails\\/image\\/30996939630_ec3dc9a77c_o.jpg?itok=pY3EJ2zW\",\"crop2x2\":\"\\/sites\\/default\\/files\\/styles\\/2x2_cardfeed\\/public\\/thumbnails\\/image\\/30996939630_ec3dc9a77c_o.jpg?itok=o_SOP4jn\",\"crop3x1\":\"\\/sites\\/default\\/files\\/styles\\/3x1_cardfeed\\/public\\/thumbnails\\/image\\/30996939630_ec3dc9a77c_o.jpg?itok=xcoB_8zL\",\"crop1x2\":\"\\/sites\\/default\\/files\\/styles\\/1x2_cardfeed\\/public\\/thumbnails\\/image\\/30996939630_ec3dc9a77c_o.jpg?itok=2oYuQ5xQ\",\"crop4x3ratio\":\"\\/sites\\/default\\/files\\/styles\\/image_card_4x3_ratio\\/public\\/thumbnails\\/image\\/30996939630_ec3dc9a77c_o.jpg?itok=Ks-9u5o6\",\"cropHumongo\":\"\\/sites\\/default\\/files\\/styles\\/4x1_cardfeed_humongo\\/public\\/thumbnails\\/image\\/30996939630_ec3dc9a77c_o.jpg?itok=Ujw-h-YS\",\"cropBanner\":\"\\/sites\\/default\\/files\\/styles\\/card_page_banner\\/public\\/thumbnails\\/image\\/30996939630_ec3dc9a77c_o.jpg?itok=y7nPadsg\",\"cropUnHoriz\":\"\\/sites\\/default\\/files\\/styles\\/ubernode_alt_horiz\\/public\\/thumbnails\\/image\\/30996939630_ec3dc9a77c_o.jpg?itok=PaFYJxjc\",\"cropUnVert\":\"\\/sites\\/default\\/files\\/styles\\/ubernode_alt_vert\\/public\\/thumbnails\\/image\\/30996939630_ec3dc9a77c_o.jpg?itok=bN7y2mSb\",\"fullWidthFeature\":\"\\/sites\\/default\\/files\\/styles\\/full_width_feature\\/public\\/thumbnails\\/image\\/30996939630_ec3dc9a77c_o.jpg?itok=k-G3q3rd\",\"lrThumbnail\":\"\\/sites\\/default\\/files\\/styles\\/lr_thumbnail\\/public\\/thumbnails\\/image\\/30996939630_ec3dc9a77c_o.jpg?itok=Y8MMPTZN\"}},{\"type\":\"twittere\",\"title\":\"@NASA Tweets\",\"position\":\"7\",\"embedUrl\":\"530415718630555648\",\"id\":\"36\"},{\"type\":\"card_feed\",\"routes\":[\"1\"],\"unType\":[\"feature\",\"image\",\"press_release\",\"collection_asset\",\"mediacast\"],\"id\":\"35\"},{\"type\":\"video_feed\",\"title\":\"video feed\",\"ytPlaylistId\":\"PLiuUQ9asub3Qq1AQRirDI-naOwo1H5gaB\",\"feedLimit\":25},{\"type\":\"pattern\",\"pattern\":[\"2x2\",\"1x1\",\"1x1\",\"2x1\",\"1x1\",\"2x1\",\"1x1\",\"1x1\",\"1x1\",\"1x1\",\"1x1\"]},];\n",
       "</script>\n",
       "</div>\n",
       "</div>\n",
       "<footer class=\"l-footer container-fluid\" role=\"contentinfo\"></footer>\n",
       "</div>\n",
       "<script>  (function($) {\n",
       "    $.reject({\n",
       "    display: [\"msie\", \"firefox\", \"safari\", \"opera\", \"chrome\", \"gcf\"],\n",
       "      reject: {  \n",
       "          msie5: true, msie6: true, msie7: true, msie8: true, msie9: true, firefox2: true, firefox3: true, firefox4: true, firefox5: true, firefox6: true, firefox7: true, firefox8: true, firefox9: true, safari1: true, safari2: true, safari3: true, safari4: true, opera1: true, opera2: true, opera3: true, opera4: true, opera5: true, opera6: true, opera7: true, opera8: true, opera9: true\n",
       "      },\n",
       "      imagePath: '/sites/all/modules/contributed/jreject/jReject/images/',\n",
       "      enable: true, header: \"Did you know that your Internet Browser is out of date?\", paragraph1: \"To ensure that all features of NASA.gov work effectively, please upgrade to the latest version of one of these web browsers. <br /><br />For Internet Explorer users: The site will only be fully functional on version 11 with compatibility mode turned off. If you're using version 11 and you're seeing this message, compatibility mode is turned on in your browser. If you need compatibility mode turned on to use other sites or applications, you'll need to use another browser to see the full NASA site.\", paragraph2: \"Just click on the icons to get to the download page:\", closeMessage: \"By closing this window you acknowledge that your experience on this website may be degraded.\", closeLink: \"Close This Window\", closeURL: \"#\", close: true, closeESC: true, closeCookie: true, overlayBgColor: \"#000\", overlayOpacity: 0.8, fadeInTime: \"fast\", fadeOutTime: \"fast\"\n",
       "    }); \n",
       "  })(jQuery);</script>\n",
       "<script>\n",
       "      /**\n",
       "       * © 2011-2014 iPerceptions, Inc. All rights reserved. Do not distribute.\n",
       "       * iPerceptions provides this code 'as is' without warranty of any kind,\n",
       "       * either express or implied.\n",
       "       */\n",
       "\n",
       "     window.iperceptionskey = 'CTS00001';\n",
       "     (function () {\n",
       "       var a = document.createElement('script'),\n",
       "           b = document.getElementsByTagName('body')[0];\n",
       "       a.type = 'text/javascript';\n",
       "       a.async = true;\n",
       "       a.src = '//universal.iperceptions.com/wrapper.js';b.appendChild(a);\n",
       "     })();\n",
       "    </script>\n",
       "</body>\n",
       "</html>"
      ]
     },
     "execution_count": 16,
     "metadata": {},
     "output_type": "execute_result"
    }
   ],
   "source": [
    "page"
   ]
  },
  {
   "cell_type": "code",
   "execution_count": 30,
   "metadata": {
    "collapsed": false
   },
   "outputs": [
    {
     "data": {
      "text/plain": [
       "<div class=\"l-page ember-init-hide\">\n",
       "<header class=\"l-header container-fluid\" role=\"banner\"></header>\n",
       "<div class=\"l-main\">\n",
       "<div class=\"l-content container-fluid\" id=\"main\" role=\"main\">\n",
       "<script>\n",
       "window.landingPage = {\"id\":\"1\",\n",
       "\"cardPageType\":\"0\",\n",
       "\"title\": true ? \"NASA Home Page\" : \"Empty landing page\",\n",
       "\"body\":\"\",\n",
       "\"topics\":[],\n",
       "\"missions\":[],\n",
       "\"collections\":[],\n",
       "\"otherTags\":[],\n",
       "\"socialEmbedCode\":null,\n",
       "\"addthisProfileID\":null,\n",
       "\"allSocialMediaLink\":null,\n",
       "\"submenu\":{\"shortName\":null,\n",
       "\"subtopicLinks\":[]},\n",
       "\"sidemenu\":{\"heading\":null,\n",
       "\"leftsideMenuLinks\":[]},\n",
       "\"cardpageLinks\":[],\n",
       "\"topPattern\":  ['1x1', '2x1', '1x1', '1x1', '1x1', '2x1', '1x1', '1x1', '1x1', '1x1', '2x1', '2x1'],\n",
       "\"govDeliveryId\":null};\n",
       "window.forcedRoute = \"landingPage\";\n",
       "window.cardFeed = [{\"type\":\"event\",\"title\":\"Homepage Events\",\"position\":\"3\",\"links\":[{\"url\":\"https:\\/\\/www.nasa.gov\\/press-release\\/nasa-preps-for-space-station-power-upgrade-spacewalks-live-nasa-tv-coverage\",\"title\":\"Wednesday, Jan. 4: Expedition 50 Spacewalk Preview Briefing from Johnson Space Center, 2 p.m. EST, NASA TV\",\"id\":\"37-0\",\"target\":\"_blank\"},{\"url\":\"https:\\/\\/www.nasa.gov\\/press-release\\/nasa-preps-for-space-station-power-upgrade-spacewalks-live-nasa-tv-coverage\",\"title\":\"Friday, Jan. 6: Shane Kimbrough and Peggy Wilson Expedition 50 Spacewalk, 7 a.m. EST (NASA TV Begins 5:30)\",\"id\":\"37-1\",\"target\":\"_blank\"},{\"url\":\"https:\\/\\/www.nasa.gov\\/press-release\\/nasa-preps-for-space-station-power-upgrade-spacewalks-live-nasa-tv-coverage\",\"title\":\"Friday, Jan. 13: Shane Kimbrough and Thomas Pesquet Expedition 50 Spacewalk, 7 a.m. EST (NASA TV Begins 5:30)\",\"id\":\"37-2\",\"target\":\"_blank\"},{\"url\":\"https:\\/\\/www.nasa.gov\\/feature\\/go-behind-the-scenes-at-johnson-space-center-leading-up-to-super-bowl-li\",\"title\":\"Registration Open: Super Bowl Week NASA Social at Johnson Space Center, Feb. 1\",\"id\":\"37-3\",\"target\":\"_blank\"}],\"launch\":{\"id\":\"ab8b14702ad2eb430159bea207d085e9\",\"title\":\"Launches and Landings\",\"url\":\"\\/launchschedule\"},\"calendar\":{\"id\":\"9bfb9f1dc5aa7e277009dd3d643cd4bf\",\"title\":\"Calendar\",\"url\":\"\\/calendar\"},\"date\":\"2016-12-15T08:35:00-05:00\",\"countdown\":0,\"id\":\"37\"},{\"type\":\"pinnedytcard\",\"title\":\"NASA 2017 - Building the Future \",\"position\":\"4\",\"ytVideoId\":\"cTULoZggpcw\",\"ytPlaylistId\":\"PLiuUQ9asub3RHqKdK_XZSZ8I_981UPhvX\"},{\"type\":\"ubercard\",\"title\":\"NASA HQ's Favorite Photos of 2016\",\"position\":\"2\",\"node\":\"395665\",\"altTitle\":null,\"visibleTag\":\"secondary\",\"id\":\"9982\"},{\"type\":\"ubercard\",\"title\":\"Small Satellite Deployed From the Space Station\",\"position\":\"8\",\"node\":\"395660\",\"altTitle\":null,\"visibleTag\":\"secondary\",\"id\":\"6361\"},{\"type\":\"ubercard\",\"title\":\"NASA Reveals the Unknown in 2016\",\"position\":\"4\",\"node\":\"395260\",\"altTitle\":null,\"visibleTag\":\"primary\",\"id\":\"9965\"},{\"type\":\"snippet\",\"title\":\"Modern Figures: NASA's Past and Future\",\"position\":\"10\",\"id\":\"9870\",\"link\":\"https:\\/\\/www.nasa.gov\\/modernfigures\",\"description\":\"<p>The book and film \\\"Hidden Figures\\\" tell the story of Katherine Johnson (right) and other African-American women who were essential to the success of early spaceflight. Today, NASA embraces their legacy and strives to include everyone who wants to participate in its ongoing exploration.<\\/p>\\r\\n\",\"links\":[{\"url\":\"https:\\/\\/www.nasa.gov\\/modernfigures\",\"title\":\"NASA's Modern Figures\",\"attributes\":{\"rel\":\"_blank\"},\"display_url\":\"https:\\/\\/www.nasa.gov\\/modernfigures\",\"html\":true}],\"image\":{\"fid\":\"548784\",\"uid\":\"12\",\"filename\":\"30996939630_ec3dc9a77c_o.jpg\",\"uri\":\"public:\\/\\/thumbnails\\/image\\/30996939630_ec3dc9a77c_o.jpg\",\"filemime\":\"image\\/jpeg\",\"filesize\":\"3154791\",\"status\":\"1\",\"timestamp\":\"1480695105\",\"uuid\":\"5e9f9feb-338a-4f39-ad35-688aaed7f61d\",\"alt\":\"Actress Octavia Spencer greets Katherine Johnson as NASA Administrator Bolden stands nearby\",\"title\":\"\",\"width\":\"3466\",\"height\":\"3280\",\"crop1x1\":\"\\/sites\\/default\\/files\\/styles\\/1x1_cardfeed\\/public\\/thumbnails\\/image\\/30996939630_ec3dc9a77c_o.jpg?itok=hLSRRuFj\",\"crop2x1\":\"\\/sites\\/default\\/files\\/styles\\/2x1_cardfeed\\/public\\/thumbnails\\/image\\/30996939630_ec3dc9a77c_o.jpg?itok=pY3EJ2zW\",\"crop2x2\":\"\\/sites\\/default\\/files\\/styles\\/2x2_cardfeed\\/public\\/thumbnails\\/image\\/30996939630_ec3dc9a77c_o.jpg?itok=o_SOP4jn\",\"crop3x1\":\"\\/sites\\/default\\/files\\/styles\\/3x1_cardfeed\\/public\\/thumbnails\\/image\\/30996939630_ec3dc9a77c_o.jpg?itok=xcoB_8zL\",\"crop1x2\":\"\\/sites\\/default\\/files\\/styles\\/1x2_cardfeed\\/public\\/thumbnails\\/image\\/30996939630_ec3dc9a77c_o.jpg?itok=2oYuQ5xQ\",\"crop4x3ratio\":\"\\/sites\\/default\\/files\\/styles\\/image_card_4x3_ratio\\/public\\/thumbnails\\/image\\/30996939630_ec3dc9a77c_o.jpg?itok=Ks-9u5o6\",\"cropHumongo\":\"\\/sites\\/default\\/files\\/styles\\/4x1_cardfeed_humongo\\/public\\/thumbnails\\/image\\/30996939630_ec3dc9a77c_o.jpg?itok=Ujw-h-YS\",\"cropBanner\":\"\\/sites\\/default\\/files\\/styles\\/card_page_banner\\/public\\/thumbnails\\/image\\/30996939630_ec3dc9a77c_o.jpg?itok=y7nPadsg\",\"cropUnHoriz\":\"\\/sites\\/default\\/files\\/styles\\/ubernode_alt_horiz\\/public\\/thumbnails\\/image\\/30996939630_ec3dc9a77c_o.jpg?itok=PaFYJxjc\",\"cropUnVert\":\"\\/sites\\/default\\/files\\/styles\\/ubernode_alt_vert\\/public\\/thumbnails\\/image\\/30996939630_ec3dc9a77c_o.jpg?itok=bN7y2mSb\",\"fullWidthFeature\":\"\\/sites\\/default\\/files\\/styles\\/full_width_feature\\/public\\/thumbnails\\/image\\/30996939630_ec3dc9a77c_o.jpg?itok=k-G3q3rd\",\"lrThumbnail\":\"\\/sites\\/default\\/files\\/styles\\/lr_thumbnail\\/public\\/thumbnails\\/image\\/30996939630_ec3dc9a77c_o.jpg?itok=Y8MMPTZN\"}},{\"type\":\"twittere\",\"title\":\"@NASA Tweets\",\"position\":\"7\",\"embedUrl\":\"530415718630555648\",\"id\":\"36\"},{\"type\":\"card_feed\",\"routes\":[\"1\"],\"unType\":[\"feature\",\"image\",\"press_release\",\"collection_asset\",\"mediacast\"],\"id\":\"35\"},{\"type\":\"video_feed\",\"title\":\"video feed\",\"ytPlaylistId\":\"PLiuUQ9asub3Qq1AQRirDI-naOwo1H5gaB\",\"feedLimit\":25},{\"type\":\"pattern\",\"pattern\":[\"2x2\",\"1x1\",\"1x1\",\"2x1\",\"1x1\",\"2x1\",\"1x1\",\"1x1\",\"1x1\",\"1x1\",\"1x1\"]},];\n",
       "</script>\n",
       "</div>\n",
       "</div>\n",
       "<footer class=\"l-footer container-fluid\" role=\"contentinfo\"></footer>\n",
       "</div>"
      ]
     },
     "execution_count": 30,
     "metadata": {},
     "output_type": "execute_result"
    }
   ],
   "source": [
    "page.find_all('div')[0]"
   ]
  },
  {
   "cell_type": "code",
   "execution_count": null,
   "metadata": {
    "collapsed": true
   },
   "outputs": [],
   "source": []
  }
 ],
 "metadata": {
  "anaconda-cloud": {},
  "kernelspec": {
   "display_name": "Python [conda env:better-work-done-faster]",
   "language": "python",
   "name": "conda-env-better-work-done-faster-py"
  },
  "language_info": {
   "codemirror_mode": {
    "name": "ipython",
    "version": 3
   },
   "file_extension": ".py",
   "mimetype": "text/x-python",
   "name": "python",
   "nbconvert_exporter": "python",
   "pygments_lexer": "ipython3",
   "version": "3.5.2"
  }
 },
 "nbformat": 4,
 "nbformat_minor": 2
}
